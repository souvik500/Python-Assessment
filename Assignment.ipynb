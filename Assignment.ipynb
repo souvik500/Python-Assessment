{
  "cells": [
    {
      "cell_type": "markdown",
      "metadata": {
        "id": "view-in-github",
        "colab_type": "text"
      },
      "source": [
        "<a href=\"https://colab.research.google.com/github/souvik500/Python-Assessment/blob/main/Assignment.ipynb\" target=\"_parent\"><img src=\"https://colab.research.google.com/assets/colab-badge.svg\" alt=\"Open In Colab\"/></a>"
      ]
    },
    {
      "cell_type": "markdown",
      "id": "3d69e01e",
      "metadata": {
        "id": "3d69e01e"
      },
      "source": [
        "# Task 1"
      ]
    },
    {
      "cell_type": "markdown",
      "id": "99238545",
      "metadata": {
        "id": "99238545"
      },
      "source": [
        "Solution - \n",
        "Select d.NAME as \"DEPT_NAME\", avg(s.AMT) as \"AVG_MONTHLY_SALARY (USD)\" from Salaries as s\n",
        "join Employees as e  On e.id=s.EMP_ID\n",
        "Join Departments as d  On d.ID=e.DEPT_ID\n",
        "Group by d.Name\n",
        "order by avg(s.AMT) desc limit 3 ;"
      ]
    },
    {
      "cell_type": "markdown",
      "id": "99923275",
      "metadata": {
        "id": "99923275"
      },
      "source": [
        "# Task 2\n"
      ]
    },
    {
      "cell_type": "code",
      "execution_count": null,
      "id": "71f09a2a",
      "metadata": {
        "id": "71f09a2a"
      },
      "outputs": [],
      "source": [
        "import pandas as pd"
      ]
    },
    {
      "cell_type": "code",
      "execution_count": null,
      "id": "de3ff62b",
      "metadata": {
        "id": "de3ff62b"
      },
      "outputs": [],
      "source": [
        "departments=pd.read_csv(\"C:/Users/91982/Desktop/assignment/Departments.csv\")"
      ]
    },
    {
      "cell_type": "code",
      "execution_count": null,
      "id": "be59998e",
      "metadata": {
        "id": "be59998e"
      },
      "outputs": [],
      "source": [
        "employees=pd.read_csv(\"C:/Users/91982/Desktop/assignment/Employees.csv\")"
      ]
    },
    {
      "cell_type": "code",
      "execution_count": null,
      "id": "bee9c9a1",
      "metadata": {
        "id": "bee9c9a1"
      },
      "outputs": [],
      "source": [
        "salaries=pd.read_csv(\"C:/Users/91982/Desktop/assignment/Salaries.csv\")"
      ]
    },
    {
      "cell_type": "code",
      "execution_count": null,
      "id": "b8c5b17f",
      "metadata": {
        "id": "b8c5b17f"
      },
      "outputs": [],
      "source": [
        "df=pd.merge(departments,employees, left_on='ID',right_on='DEPT_ID')"
      ]
    },
    {
      "cell_type": "code",
      "execution_count": null,
      "id": "01959783",
      "metadata": {
        "id": "01959783"
      },
      "outputs": [],
      "source": [
        "data= pd.merge(df,salaries,left_on=\"ID_y\",right_on='EMP_ID')"
      ]
    },
    {
      "cell_type": "code",
      "execution_count": null,
      "id": "432a3441",
      "metadata": {
        "id": "432a3441",
        "outputId": "2ae3f090-5a7f-4a27-dfc3-62787929717d"
      },
      "outputs": [
        {
          "data": {
            "text/html": [
              "<div>\n",
              "<style scoped>\n",
              "    .dataframe tbody tr th:only-of-type {\n",
              "        vertical-align: middle;\n",
              "    }\n",
              "\n",
              "    .dataframe tbody tr th {\n",
              "        vertical-align: top;\n",
              "    }\n",
              "\n",
              "    .dataframe thead th {\n",
              "        text-align: right;\n",
              "    }\n",
              "</style>\n",
              "<table border=\"1\" class=\"dataframe\">\n",
              "  <thead>\n",
              "    <tr style=\"text-align: right;\">\n",
              "      <th></th>\n",
              "      <th>ID_x</th>\n",
              "      <th>NAME_x</th>\n",
              "      <th>ID_y</th>\n",
              "      <th>NAME_y</th>\n",
              "      <th>DEPT_ID</th>\n",
              "      <th>EMP_ID</th>\n",
              "      <th>MONTH</th>\n",
              "      <th>AMT</th>\n",
              "      <th>month_paart</th>\n",
              "    </tr>\n",
              "  </thead>\n",
              "  <tbody>\n",
              "    <tr>\n",
              "      <th>0</th>\n",
              "      <td>1</td>\n",
              "      <td>HR</td>\n",
              "      <td>1</td>\n",
              "      <td>Jack</td>\n",
              "      <td>1</td>\n",
              "      <td>1</td>\n",
              "      <td>14-08-2453</td>\n",
              "      <td>5000</td>\n",
              "      <td>NaN</td>\n",
              "    </tr>\n",
              "    <tr>\n",
              "      <th>1</th>\n",
              "      <td>1</td>\n",
              "      <td>HR</td>\n",
              "      <td>1</td>\n",
              "      <td>Jack</td>\n",
              "      <td>1</td>\n",
              "      <td>1</td>\n",
              "      <td>15-08-2453</td>\n",
              "      <td>5000</td>\n",
              "      <td>NaN</td>\n",
              "    </tr>\n",
              "    <tr>\n",
              "      <th>2</th>\n",
              "      <td>1</td>\n",
              "      <td>HR</td>\n",
              "      <td>2</td>\n",
              "      <td>John</td>\n",
              "      <td>1</td>\n",
              "      <td>2</td>\n",
              "      <td>14-08-2453</td>\n",
              "      <td>4000</td>\n",
              "      <td>NaN</td>\n",
              "    </tr>\n",
              "    <tr>\n",
              "      <th>3</th>\n",
              "      <td>1</td>\n",
              "      <td>HR</td>\n",
              "      <td>2</td>\n",
              "      <td>John</td>\n",
              "      <td>1</td>\n",
              "      <td>2</td>\n",
              "      <td>15-08-2453</td>\n",
              "      <td>4000</td>\n",
              "      <td>NaN</td>\n",
              "    </tr>\n",
              "    <tr>\n",
              "      <th>4</th>\n",
              "      <td>1</td>\n",
              "      <td>HR</td>\n",
              "      <td>10</td>\n",
              "      <td>Shirley</td>\n",
              "      <td>1</td>\n",
              "      <td>10</td>\n",
              "      <td>14-08-2453</td>\n",
              "      <td>4800</td>\n",
              "      <td>NaN</td>\n",
              "    </tr>\n",
              "    <tr>\n",
              "      <th>...</th>\n",
              "      <td>...</td>\n",
              "      <td>...</td>\n",
              "      <td>...</td>\n",
              "      <td>...</td>\n",
              "      <td>...</td>\n",
              "      <td>...</td>\n",
              "      <td>...</td>\n",
              "      <td>...</td>\n",
              "      <td>...</td>\n",
              "    </tr>\n",
              "    <tr>\n",
              "      <th>166</th>\n",
              "      <td>5</td>\n",
              "      <td>Sales</td>\n",
              "      <td>16</td>\n",
              "      <td>Howard</td>\n",
              "      <td>5</td>\n",
              "      <td>16</td>\n",
              "      <td>20-11-2453</td>\n",
              "      <td>7500</td>\n",
              "      <td>NaN</td>\n",
              "    </tr>\n",
              "    <tr>\n",
              "      <th>167</th>\n",
              "      <td>5</td>\n",
              "      <td>Sales</td>\n",
              "      <td>16</td>\n",
              "      <td>Howard</td>\n",
              "      <td>5</td>\n",
              "      <td>16</td>\n",
              "      <td>21-11-2453</td>\n",
              "      <td>7500</td>\n",
              "      <td>NaN</td>\n",
              "    </tr>\n",
              "    <tr>\n",
              "      <th>168</th>\n",
              "      <td>5</td>\n",
              "      <td>Sales</td>\n",
              "      <td>21</td>\n",
              "      <td>Bruce</td>\n",
              "      <td>5</td>\n",
              "      <td>21</td>\n",
              "      <td>19-11-2453</td>\n",
              "      <td>4800</td>\n",
              "      <td>NaN</td>\n",
              "    </tr>\n",
              "    <tr>\n",
              "      <th>169</th>\n",
              "      <td>5</td>\n",
              "      <td>Sales</td>\n",
              "      <td>21</td>\n",
              "      <td>Bruce</td>\n",
              "      <td>5</td>\n",
              "      <td>21</td>\n",
              "      <td>20-11-2453</td>\n",
              "      <td>4800</td>\n",
              "      <td>NaN</td>\n",
              "    </tr>\n",
              "    <tr>\n",
              "      <th>170</th>\n",
              "      <td>5</td>\n",
              "      <td>Sales</td>\n",
              "      <td>21</td>\n",
              "      <td>Bruce</td>\n",
              "      <td>5</td>\n",
              "      <td>21</td>\n",
              "      <td>21-11-2453</td>\n",
              "      <td>4800</td>\n",
              "      <td>NaN</td>\n",
              "    </tr>\n",
              "  </tbody>\n",
              "</table>\n",
              "<p>171 rows × 9 columns</p>\n",
              "</div>"
            ],
            "text/plain": [
              "     ID_x NAME_x  ID_y   NAME_y  DEPT_ID  EMP_ID       MONTH   AMT  \\\n",
              "0       1     HR     1     Jack        1       1  14-08-2453  5000   \n",
              "1       1     HR     1     Jack        1       1  15-08-2453  5000   \n",
              "2       1     HR     2     John        1       2  14-08-2453  4000   \n",
              "3       1     HR     2     John        1       2  15-08-2453  4000   \n",
              "4       1     HR    10  Shirley        1      10  14-08-2453  4800   \n",
              "..    ...    ...   ...      ...      ...     ...         ...   ...   \n",
              "166     5  Sales    16   Howard        5      16  20-11-2453  7500   \n",
              "167     5  Sales    16   Howard        5      16  21-11-2453  7500   \n",
              "168     5  Sales    21    Bruce        5      21  19-11-2453  4800   \n",
              "169     5  Sales    21    Bruce        5      21  20-11-2453  4800   \n",
              "170     5  Sales    21    Bruce        5      21  21-11-2453  4800   \n",
              "\n",
              "     month_paart  \n",
              "0            NaN  \n",
              "1            NaN  \n",
              "2            NaN  \n",
              "3            NaN  \n",
              "4            NaN  \n",
              "..           ...  \n",
              "166          NaN  \n",
              "167          NaN  \n",
              "168          NaN  \n",
              "169          NaN  \n",
              "170          NaN  \n",
              "\n",
              "[171 rows x 9 columns]"
            ]
          },
          "execution_count": 37,
          "metadata": {},
          "output_type": "execute_result"
        }
      ],
      "source": [
        "data"
      ]
    },
    {
      "cell_type": "code",
      "execution_count": null,
      "id": "8813e6e2",
      "metadata": {
        "id": "8813e6e2"
      },
      "outputs": [],
      "source": [
        "x=data.groupby(['NAME_x'])['AMT'].mean()"
      ]
    },
    {
      "cell_type": "code",
      "execution_count": null,
      "id": "a1f8bf09",
      "metadata": {
        "scrolled": true,
        "id": "a1f8bf09",
        "outputId": "f5dea8b9-842f-4130-a374-6e38456a9556"
      },
      "outputs": [
        {
          "data": {
            "text/plain": [
              "NAME_x\n",
              "Sales      7045.16129\n",
              "Ops        6420.00000\n",
              "Finance    6360.31746\n",
              "Name: AMT, dtype: float64"
            ]
          },
          "execution_count": 23,
          "metadata": {},
          "output_type": "execute_result"
        }
      ],
      "source": [
        "x.sort_values(ascending=False).head(3)"
      ]
    },
    {
      "cell_type": "markdown",
      "id": "40d692ca",
      "metadata": {
        "id": "40d692ca"
      },
      "source": [
        "# Task 3 "
      ]
    },
    {
      "cell_type": "markdown",
      "id": "185dbfaa",
      "metadata": {
        "id": "185dbfaa"
      },
      "source": [
        "Question - \n",
        "def compute(n):\n",
        "    if n < 10:\n",
        "        out = n ** 2\n",
        "    elif n < 20:\n",
        "        out = 1\n",
        "        for i in range(1, n-10):\n",
        "            out *= i\n",
        "    else:\n",
        "        lim = n - 20\n",
        "        out = lim * lim\n",
        "        out = out - lim\n",
        "        out = out / 2 \n",
        "    print(out)"
      ]
    },
    {
      "cell_type": "code",
      "execution_count": null,
      "id": "138afdb8",
      "metadata": {
        "id": "138afdb8"
      },
      "outputs": [],
      "source": [
        "def compute(n):\n",
        "    if n < 10:\n",
        "        out = n ** 2\n",
        "    elif n < 20:\n",
        "        out = 1\n",
        "        for i in range(1, n-9):\n",
        "            out *= i\n",
        "    else:\n",
        "        lim = n - 19\n",
        "        out = lim * lim\n",
        "        out = out - lim\n",
        "        out = out / 2\n",
        "    print(out)"
      ]
    },
    {
      "cell_type": "code",
      "execution_count": null,
      "id": "c7688a07",
      "metadata": {
        "scrolled": true,
        "id": "c7688a07",
        "outputId": "f9edee25-3fe2-4c5b-fbeb-0daf9e57e3a3"
      },
      "outputs": [
        {
          "name": "stdout",
          "output_type": "stream",
          "text": [
            "Enter an integer: 44\n",
            "300.0\n"
          ]
        }
      ],
      "source": [
        "n = int(input(\"Enter an integer: \"))\n",
        "compute(n)"
      ]
    }
  ],
  "metadata": {
    "kernelspec": {
      "display_name": "Python 3 (ipykernel)",
      "language": "python",
      "name": "python3"
    },
    "language_info": {
      "codemirror_mode": {
        "name": "ipython",
        "version": 3
      },
      "file_extension": ".py",
      "mimetype": "text/x-python",
      "name": "python",
      "nbconvert_exporter": "python",
      "pygments_lexer": "ipython3",
      "version": "3.9.13"
    },
    "colab": {
      "provenance": [],
      "include_colab_link": true
    }
  },
  "nbformat": 4,
  "nbformat_minor": 5
}